{
 "cells": [
  {
   "cell_type": "markdown",
   "id": "53a5e403",
   "metadata": {},
   "source": [
    "# LangChain Basics"
   ]
  },
  {
   "cell_type": "code",
   "execution_count": 13,
   "id": "773a7aaf",
   "metadata": {
    "collapsed": true
   },
   "outputs": [
    {
     "name": "stdout",
     "output_type": "stream",
     "text": [
      "Collecting openai<1 (from -r ./requirements.txt (line 1))\n",
      "  Obtaining dependency information for openai<1 from https://files.pythonhosted.org/packages/1e/9f/385c25502f437686e4aa715969e5eaf5c2cb5e5ffa7c5cdd52f3c6ae967a/openai-0.28.1-py3-none-any.whl.metadata\n",
      "  Downloading openai-0.28.1-py3-none-any.whl.metadata (11 kB)\n",
      "Collecting langchain<1 (from -r ./requirements.txt (line 2))\n",
      "  Obtaining dependency information for langchain<1 from https://files.pythonhosted.org/packages/e8/67/17a732ee99a7a383b5fd51ca671030e9f9d22e6e85af8873d20e2e01f7fd/langchain-0.1.1-py3-none-any.whl.metadata\n",
      "  Downloading langchain-0.1.1-py3-none-any.whl.metadata (13 kB)\n",
      "Collecting pinecone-client<3 (from -r ./requirements.txt (line 3))\n",
      "  Obtaining dependency information for pinecone-client<3 from https://files.pythonhosted.org/packages/df/d4/cffbb61236c6c1d7510e835c1ff843e4e7d705ed59d21c0e5b6dc1cb4fd8/pinecone_client-2.2.4-py3-none-any.whl.metadata\n",
      "  Downloading pinecone_client-2.2.4-py3-none-any.whl.metadata (7.8 kB)\n",
      "Requirement already satisfied: python-dotenv in c:\\users\\rahul\\anaconda3\\lib\\site-packages (from -r ./requirements.txt (line 4)) (0.21.0)\n",
      "Collecting tiktoken (from -r ./requirements.txt (line 5))\n",
      "  Obtaining dependency information for tiktoken from https://files.pythonhosted.org/packages/f1/62/73629527ff413c8ce20189d29eb52a91d6d4571e3214ef6d5a2c00ca4081/tiktoken-0.5.2-cp311-cp311-win_amd64.whl.metadata\n",
      "  Downloading tiktoken-0.5.2-cp311-cp311-win_amd64.whl.metadata (6.8 kB)\n",
      "Requirement already satisfied: requests>=2.20 in c:\\users\\rahul\\anaconda3\\lib\\site-packages (from openai<1->-r ./requirements.txt (line 1)) (2.31.0)\n",
      "Requirement already satisfied: tqdm in c:\\users\\rahul\\anaconda3\\lib\\site-packages (from openai<1->-r ./requirements.txt (line 1)) (4.65.0)\n",
      "Requirement already satisfied: aiohttp in c:\\users\\rahul\\anaconda3\\lib\\site-packages (from openai<1->-r ./requirements.txt (line 1)) (3.8.5)\n",
      "Requirement already satisfied: PyYAML>=5.3 in c:\\users\\rahul\\anaconda3\\lib\\site-packages (from langchain<1->-r ./requirements.txt (line 2)) (6.0)\n",
      "Requirement already satisfied: SQLAlchemy<3,>=1.4 in c:\\users\\rahul\\anaconda3\\lib\\site-packages (from langchain<1->-r ./requirements.txt (line 2)) (1.4.39)\n",
      "Collecting dataclasses-json<0.7,>=0.5.7 (from langchain<1->-r ./requirements.txt (line 2))\n",
      "  Obtaining dependency information for dataclasses-json<0.7,>=0.5.7 from https://files.pythonhosted.org/packages/ae/53/8c006de775834cd4ea64a445402dc195caeebb77dc76b7defb9b3887cb0d/dataclasses_json-0.6.3-py3-none-any.whl.metadata\n",
      "  Downloading dataclasses_json-0.6.3-py3-none-any.whl.metadata (25 kB)\n",
      "Collecting jsonpatch<2.0,>=1.33 (from langchain<1->-r ./requirements.txt (line 2))\n",
      "  Obtaining dependency information for jsonpatch<2.0,>=1.33 from https://files.pythonhosted.org/packages/73/07/02e16ed01e04a374e644b575638ec7987ae846d25ad97bcc9945a3ee4b0e/jsonpatch-1.33-py2.py3-none-any.whl.metadata\n",
      "  Downloading jsonpatch-1.33-py2.py3-none-any.whl.metadata (3.0 kB)\n",
      "Collecting langchain-community<0.1,>=0.0.13 (from langchain<1->-r ./requirements.txt (line 2))\n",
      "  Obtaining dependency information for langchain-community<0.1,>=0.0.13 from https://files.pythonhosted.org/packages/2a/24/224115d2666ff3ff4917f2ebc98b9da2d2fe8835ec57909ceca5972a117e/langchain_community-0.0.13-py3-none-any.whl.metadata\n",
      "  Downloading langchain_community-0.0.13-py3-none-any.whl.metadata (7.5 kB)\n",
      "Collecting langchain-core<0.2,>=0.1.9 (from langchain<1->-r ./requirements.txt (line 2))\n",
      "  Obtaining dependency information for langchain-core<0.2,>=0.1.9 from https://files.pythonhosted.org/packages/f1/40/5472987308a9c8611c200a0455dd1e93a1e95d5dfb9c6e06f6ff63917512/langchain_core-0.1.13-py3-none-any.whl.metadata\n",
      "  Downloading langchain_core-0.1.13-py3-none-any.whl.metadata (5.9 kB)\n",
      "Collecting langsmith<0.1.0,>=0.0.77 (from langchain<1->-r ./requirements.txt (line 2))\n",
      "  Obtaining dependency information for langsmith<0.1.0,>=0.0.77 from https://files.pythonhosted.org/packages/a1/3f/0808382e9d0b504e727dbaf86f1fcbe59472cac17a205644a5f78b11c36b/langsmith-0.0.83-py3-none-any.whl.metadata\n",
      "  Downloading langsmith-0.0.83-py3-none-any.whl.metadata (10 kB)\n",
      "Requirement already satisfied: numpy<2,>=1 in c:\\users\\rahul\\anaconda3\\lib\\site-packages (from langchain<1->-r ./requirements.txt (line 2)) (1.24.3)\n",
      "Requirement already satisfied: pydantic<3,>=1 in c:\\users\\rahul\\anaconda3\\lib\\site-packages (from langchain<1->-r ./requirements.txt (line 2)) (1.10.8)\n",
      "Requirement already satisfied: tenacity<9.0.0,>=8.1.0 in c:\\users\\rahul\\anaconda3\\lib\\site-packages (from langchain<1->-r ./requirements.txt (line 2)) (8.2.2)\n",
      "Collecting loguru>=0.5.0 (from pinecone-client<3->-r ./requirements.txt (line 3))\n",
      "  Obtaining dependency information for loguru>=0.5.0 from https://files.pythonhosted.org/packages/03/0a/4f6fed21aa246c6b49b561ca55facacc2a44b87d65b8b92362a8e99ba202/loguru-0.7.2-py3-none-any.whl.metadata\n",
      "  Downloading loguru-0.7.2-py3-none-any.whl.metadata (23 kB)\n",
      "Requirement already satisfied: typing-extensions>=3.7.4 in c:\\users\\rahul\\anaconda3\\lib\\site-packages (from pinecone-client<3->-r ./requirements.txt (line 3)) (4.7.1)\n",
      "Collecting dnspython>=2.0.0 (from pinecone-client<3->-r ./requirements.txt (line 3))\n",
      "  Obtaining dependency information for dnspython>=2.0.0 from https://files.pythonhosted.org/packages/b6/83/4a684a63d395007670bc95c1947c07045fe66141574e2f7e9e347df8499a/dnspython-2.5.0-py3-none-any.whl.metadata\n",
      "  Downloading dnspython-2.5.0-py3-none-any.whl.metadata (5.8 kB)\n",
      "Requirement already satisfied: python-dateutil>=2.5.3 in c:\\users\\rahul\\anaconda3\\lib\\site-packages (from pinecone-client<3->-r ./requirements.txt (line 3)) (2.8.2)\n",
      "Requirement already satisfied: urllib3>=1.21.1 in c:\\users\\rahul\\anaconda3\\lib\\site-packages (from pinecone-client<3->-r ./requirements.txt (line 3)) (1.26.16)\n",
      "Requirement already satisfied: regex>=2022.1.18 in c:\\users\\rahul\\anaconda3\\lib\\site-packages (from tiktoken->-r ./requirements.txt (line 5)) (2022.7.9)\n",
      "Requirement already satisfied: attrs>=17.3.0 in c:\\users\\rahul\\anaconda3\\lib\\site-packages (from aiohttp->openai<1->-r ./requirements.txt (line 1)) (22.1.0)\n",
      "Requirement already satisfied: charset-normalizer<4.0,>=2.0 in c:\\users\\rahul\\anaconda3\\lib\\site-packages (from aiohttp->openai<1->-r ./requirements.txt (line 1)) (2.0.4)\n",
      "Requirement already satisfied: multidict<7.0,>=4.5 in c:\\users\\rahul\\anaconda3\\lib\\site-packages (from aiohttp->openai<1->-r ./requirements.txt (line 1)) (6.0.2)\n",
      "Requirement already satisfied: async-timeout<5.0,>=4.0.0a3 in c:\\users\\rahul\\anaconda3\\lib\\site-packages (from aiohttp->openai<1->-r ./requirements.txt (line 1)) (4.0.2)\n",
      "Requirement already satisfied: yarl<2.0,>=1.0 in c:\\users\\rahul\\anaconda3\\lib\\site-packages (from aiohttp->openai<1->-r ./requirements.txt (line 1)) (1.8.1)\n",
      "Requirement already satisfied: frozenlist>=1.1.1 in c:\\users\\rahul\\anaconda3\\lib\\site-packages (from aiohttp->openai<1->-r ./requirements.txt (line 1)) (1.3.3)\n",
      "Requirement already satisfied: aiosignal>=1.1.2 in c:\\users\\rahul\\anaconda3\\lib\\site-packages (from aiohttp->openai<1->-r ./requirements.txt (line 1)) (1.2.0)\n",
      "Collecting marshmallow<4.0.0,>=3.18.0 (from dataclasses-json<0.7,>=0.5.7->langchain<1->-r ./requirements.txt (line 2))\n",
      "  Obtaining dependency information for marshmallow<4.0.0,>=3.18.0 from https://files.pythonhosted.org/packages/57/e9/4368d49d3b462da16a3bac976487764a84dd85cef97232c7bd61f5bdedf3/marshmallow-3.20.2-py3-none-any.whl.metadata\n",
      "  Downloading marshmallow-3.20.2-py3-none-any.whl.metadata (7.5 kB)\n",
      "Collecting typing-inspect<1,>=0.4.0 (from dataclasses-json<0.7,>=0.5.7->langchain<1->-r ./requirements.txt (line 2))\n",
      "  Obtaining dependency information for typing-inspect<1,>=0.4.0 from https://files.pythonhosted.org/packages/65/f3/107a22063bf27bdccf2024833d3445f4eea42b2e598abfbd46f6a63b6cb0/typing_inspect-0.9.0-py3-none-any.whl.metadata\n",
      "  Downloading typing_inspect-0.9.0-py3-none-any.whl.metadata (1.5 kB)\n",
      "Requirement already satisfied: jsonpointer>=1.9 in c:\\users\\rahul\\anaconda3\\lib\\site-packages (from jsonpatch<2.0,>=1.33->langchain<1->-r ./requirements.txt (line 2)) (2.1)\n",
      "Requirement already satisfied: anyio<5,>=3 in c:\\users\\rahul\\anaconda3\\lib\\site-packages (from langchain-core<0.2,>=0.1.9->langchain<1->-r ./requirements.txt (line 2)) (3.5.0)\n",
      "Collecting packaging<24.0,>=23.2 (from langchain-core<0.2,>=0.1.9->langchain<1->-r ./requirements.txt (line 2))\n",
      "  Obtaining dependency information for packaging<24.0,>=23.2 from https://files.pythonhosted.org/packages/ec/1a/610693ac4ee14fcdf2d9bf3c493370e4f2ef7ae2e19217d7a237ff42367d/packaging-23.2-py3-none-any.whl.metadata\n",
      "  Downloading packaging-23.2-py3-none-any.whl.metadata (3.2 kB)\n",
      "Requirement already satisfied: colorama>=0.3.4 in c:\\users\\rahul\\anaconda3\\lib\\site-packages (from loguru>=0.5.0->pinecone-client<3->-r ./requirements.txt (line 3)) (0.4.6)\n",
      "Collecting win32-setctime>=1.0.0 (from loguru>=0.5.0->pinecone-client<3->-r ./requirements.txt (line 3))\n",
      "  Downloading win32_setctime-1.1.0-py3-none-any.whl (3.6 kB)\n",
      "Requirement already satisfied: six>=1.5 in c:\\users\\rahul\\anaconda3\\lib\\site-packages (from python-dateutil>=2.5.3->pinecone-client<3->-r ./requirements.txt (line 3)) (1.16.0)\n",
      "Requirement already satisfied: idna<4,>=2.5 in c:\\users\\rahul\\anaconda3\\lib\\site-packages (from requests>=2.20->openai<1->-r ./requirements.txt (line 1)) (3.4)\n",
      "Requirement already satisfied: certifi>=2017.4.17 in c:\\users\\rahul\\anaconda3\\lib\\site-packages (from requests>=2.20->openai<1->-r ./requirements.txt (line 1)) (2023.11.17)\n",
      "Requirement already satisfied: greenlet!=0.4.17 in c:\\users\\rahul\\anaconda3\\lib\\site-packages (from SQLAlchemy<3,>=1.4->langchain<1->-r ./requirements.txt (line 2)) (2.0.1)\n",
      "Requirement already satisfied: sniffio>=1.1 in c:\\users\\rahul\\anaconda3\\lib\\site-packages (from anyio<5,>=3->langchain-core<0.2,>=0.1.9->langchain<1->-r ./requirements.txt (line 2)) (1.2.0)\n",
      "Requirement already satisfied: mypy-extensions>=0.3.0 in c:\\users\\rahul\\anaconda3\\lib\\site-packages (from typing-inspect<1,>=0.4.0->dataclasses-json<0.7,>=0.5.7->langchain<1->-r ./requirements.txt (line 2)) (1.0.0)\n",
      "Downloading openai-0.28.1-py3-none-any.whl (76 kB)\n",
      "   ---------------------------------------- 0.0/77.0 kB ? eta -:--:--\n",
      "   ---------------------------------------- 77.0/77.0 kB 2.1 MB/s eta 0:00:00\n",
      "Downloading langchain-0.1.1-py3-none-any.whl (802 kB)\n",
      "   ---------------------------------------- 0.0/802.4 kB ? eta -:--:--\n",
      "   -------- ------------------------------- 174.1/802.4 kB 5.3 MB/s eta 0:00:01\n",
      "   -------------------------- ------------- 522.2/802.4 kB 6.6 MB/s eta 0:00:01\n",
      "   -------------------------------------- - 778.2/802.4 kB 7.0 MB/s eta 0:00:01\n",
      "   ---------------------------------------- 802.4/802.4 kB 5.7 MB/s eta 0:00:00\n",
      "Downloading pinecone_client-2.2.4-py3-none-any.whl (179 kB)\n",
      "   ---------------------------------------- 0.0/179.4 kB ? eta -:--:--\n",
      "   --------------------------------------- 179.4/179.4 kB 10.6 MB/s eta 0:00:00\n",
      "Downloading tiktoken-0.5.2-cp311-cp311-win_amd64.whl (786 kB)\n",
      "   ---------------------------------------- 0.0/786.4 kB ? eta -:--:--\n",
      "   --------------------- ------------------ 430.1/786.4 kB 8.9 MB/s eta 0:00:01\n",
      "   ---------------------------------------- 786.4/786.4 kB 8.3 MB/s eta 0:00:00\n",
      "Downloading dataclasses_json-0.6.3-py3-none-any.whl (28 kB)\n",
      "Downloading dnspython-2.5.0-py3-none-any.whl (305 kB)\n",
      "   ---------------------------------------- 0.0/305.4 kB ? eta -:--:--\n",
      "   - -------------------------------------- 10.2/305.4 kB ? eta -:--:--\n",
      "   ---------------------------------------- 305.4/305.4 kB 4.7 MB/s eta 0:00:00\n",
      "Downloading jsonpatch-1.33-py2.py3-none-any.whl (12 kB)\n",
      "Downloading langchain_community-0.0.13-py3-none-any.whl (1.6 MB)\n",
      "   ---------------------------------------- 0.0/1.6 MB ? eta -:--:--\n",
      "   ---------------------------------------- 0.0/1.6 MB ? eta -:--:--\n",
      "   -------- ------------------------------- 0.3/1.6 MB 3.5 MB/s eta 0:00:01\n",
      "   ---------- ----------------------------- 0.4/1.6 MB 3.2 MB/s eta 0:00:01\n",
      "   -------------- ------------------------- 0.6/1.6 MB 3.3 MB/s eta 0:00:01\n",
      "   ------------------ --------------------- 0.7/1.6 MB 3.1 MB/s eta 0:00:01\n",
      "   --------------------- ------------------ 0.8/1.6 MB 3.0 MB/s eta 0:00:01\n",
      "   ------------------------ --------------- 1.0/1.6 MB 2.9 MB/s eta 0:00:01\n",
      "   ---------------------------- ----------- 1.1/1.6 MB 2.9 MB/s eta 0:00:01\n",
      "   ------------------------------- -------- 1.2/1.6 MB 2.9 MB/s eta 0:00:01\n",
      "   -------------------------------- ------- 1.3/1.6 MB 2.8 MB/s eta 0:00:01\n",
      "   ---------------------------------- ----- 1.3/1.6 MB 2.6 MB/s eta 0:00:01\n",
      "   ------------------------------------ --- 1.4/1.6 MB 2.6 MB/s eta 0:00:01\n",
      "   ------------------------------------- -- 1.5/1.6 MB 2.5 MB/s eta 0:00:01\n",
      "   -------------------------------------- - 1.5/1.6 MB 2.4 MB/s eta 0:00:01\n",
      "   ---------------------------------------- 1.6/1.6 MB 2.3 MB/s eta 0:00:00\n",
      "Downloading langchain_core-0.1.13-py3-none-any.whl (228 kB)\n",
      "   ---------------------------------------- 0.0/228.7 kB ? eta -:--:--\n",
      "   ------ -------------------------------- 41.0/228.7 kB 991.0 kB/s eta 0:00:01\n",
      "   ---------------- ----------------------- 92.2/228.7 kB 1.1 MB/s eta 0:00:01\n",
      "   ------------------------- -------------- 143.4/228.7 kB 1.1 MB/s eta 0:00:01\n",
      "   ----------------------------------- ---- 204.8/228.7 kB 1.1 MB/s eta 0:00:01\n",
      "   ---------------------------------------- 228.7/228.7 kB 1.2 MB/s eta 0:00:00\n",
      "Downloading langsmith-0.0.83-py3-none-any.whl (49 kB)\n",
      "   ---------------------------------------- 0.0/49.3 kB ? eta -:--:--\n",
      "   ---------------------------------------- 49.3/49.3 kB 1.3 MB/s eta 0:00:00\n",
      "Downloading loguru-0.7.2-py3-none-any.whl (62 kB)\n",
      "   ---------------------------------------- 0.0/62.5 kB ? eta -:--:--\n",
      "   ---------------------------------------  61.4/62.5 kB 1.1 MB/s eta 0:00:01\n",
      "   ---------------------------------------- 62.5/62.5 kB 1.1 MB/s eta 0:00:00\n",
      "Downloading marshmallow-3.20.2-py3-none-any.whl (49 kB)\n",
      "   ---------------------------------------- 0.0/49.4 kB ? eta -:--:--\n",
      "   ---------------------------------------- 49.4/49.4 kB 1.2 MB/s eta 0:00:00\n",
      "Downloading packaging-23.2-py3-none-any.whl (53 kB)\n",
      "   ---------------------------------------- 0.0/53.0 kB ? eta -:--:--\n",
      "   ---------------------------------------- 53.0/53.0 kB 1.4 MB/s eta 0:00:00\n",
      "Downloading typing_inspect-0.9.0-py3-none-any.whl (8.8 kB)\n",
      "Installing collected packages: win32-setctime, typing-inspect, packaging, jsonpatch, dnspython, tiktoken, marshmallow, loguru, langsmith, pinecone-client, openai, langchain-core, dataclasses-json, langchain-community, langchain\n",
      "  Attempting uninstall: packaging\n",
      "    Found existing installation: packaging 23.1\n",
      "    Uninstalling packaging-23.1:\n",
      "      Successfully uninstalled packaging-23.1\n",
      "  Attempting uninstall: jsonpatch\n",
      "    Found existing installation: jsonpatch 1.32\n",
      "    Uninstalling jsonpatch-1.32:\n",
      "      Successfully uninstalled jsonpatch-1.32\n",
      "Successfully installed dataclasses-json-0.6.3 dnspython-2.5.0 jsonpatch-1.33 langchain-0.1.1 langchain-community-0.0.13 langchain-core-0.1.13 langsmith-0.0.83 loguru-0.7.2 marshmallow-3.20.2 openai-0.28.1 packaging-23.2 pinecone-client-2.2.4 tiktoken-0.5.2 typing-inspect-0.9.0 win32-setctime-1.1.0\n"
     ]
    },
    {
     "name": "stderr",
     "output_type": "stream",
     "text": [
      "ERROR: pip's dependency resolver does not currently take into account all the packages that are installed. This behaviour is the source of the following dependency conflicts.\n",
      "tables 3.8.0 requires blosc2~=2.0.0, which is not installed.\n",
      "tables 3.8.0 requires cython>=0.29.21, which is not installed.\n",
      "python-lsp-black 1.2.1 requires black>=22.3.0, but you have black 0.0 which is incompatible.\n"
     ]
    }
   ],
   "source": [
    "!pip install -r ./requirements.txt -q     #for installing libraries of Langchain & others"
   ]
  },
  {
   "cell_type": "markdown",
   "id": "ecd7f052",
   "metadata": {},
   "source": [
    "#if above code is not working try this code"
   ]
  },
  {
   "cell_type": "code",
   "execution_count": 18,
   "id": "ecbaf403",
   "metadata": {},
   "outputs": [],
   "source": [
    "!pip install -r ./requirements.txt --use-deprecated=legacy-resolver -q "
   ]
  },
  {
   "cell_type": "code",
   "execution_count": 19,
   "id": "ad7e776a",
   "metadata": {
    "scrolled": true
   },
   "outputs": [
    {
     "name": "stdout",
     "output_type": "stream",
     "text": [
      "Name: langchain\n",
      "Version: 0.0.192\n",
      "Summary: Building applications with LLMs through composability\n",
      "Home-page: https://www.github.com/hwchase17/langchain\n",
      "Author: \n",
      "Author-email: \n",
      "License: MIT\n",
      "Location: C:\\Users\\rahul\\anaconda3\\Lib\\site-packages\n",
      "Requires: aiohttp, dataclasses-json, langchainplus-sdk, numexpr, numpy, openapi-schema-pydantic, pydantic, PyYAML, requests, SQLAlchemy, tenacity\n",
      "Required-by: \n"
     ]
    }
   ],
   "source": [
    "!pip show langchain"
   ]
  },
  {
   "cell_type": "markdown",
   "id": "bd34f7af",
   "metadata": {},
   "source": [
    "!pip install langchain --upgrade -q   #for updating"
   ]
  },
  {
   "cell_type": "markdown",
   "id": "d0cc0bb4",
   "metadata": {},
   "source": [
    "## Python-dotenv"
   ]
  },
  {
   "cell_type": "code",
   "execution_count": 28,
   "id": "054d814a",
   "metadata": {},
   "outputs": [
    {
     "data": {
      "text/plain": [
       "'0f922e33-ad5d-4cf6-a051-53af52c51c59'"
      ]
     },
     "execution_count": 28,
     "metadata": {},
     "output_type": "execute_result"
    }
   ],
   "source": [
    "import os\n",
    "from dotenv import load_dotenv,find_dotenv\n",
    "load_dotenv(find_dotenv(),override=True)\n",
    "\n",
    "os.environ.get(\"PINECONE_API_KEY\")"
   ]
  },
  {
   "cell_type": "code",
   "execution_count": null,
   "id": "d66132a2",
   "metadata": {},
   "outputs": [],
   "source": []
  },
  {
   "cell_type": "code",
   "execution_count": null,
   "id": "1ecd5646",
   "metadata": {},
   "outputs": [],
   "source": []
  },
  {
   "cell_type": "code",
   "execution_count": null,
   "id": "69d3152e",
   "metadata": {},
   "outputs": [],
   "source": []
  },
  {
   "cell_type": "code",
   "execution_count": null,
   "id": "86cbaf23",
   "metadata": {},
   "outputs": [],
   "source": []
  },
  {
   "cell_type": "code",
   "execution_count": null,
   "id": "82ded287",
   "metadata": {},
   "outputs": [],
   "source": []
  },
  {
   "cell_type": "code",
   "execution_count": null,
   "id": "50e7319a",
   "metadata": {},
   "outputs": [],
   "source": []
  },
  {
   "cell_type": "code",
   "execution_count": null,
   "id": "e9c6a9a3",
   "metadata": {},
   "outputs": [],
   "source": []
  },
  {
   "cell_type": "code",
   "execution_count": null,
   "id": "640ef1bd",
   "metadata": {},
   "outputs": [],
   "source": []
  },
  {
   "cell_type": "code",
   "execution_count": null,
   "id": "a16beab1",
   "metadata": {},
   "outputs": [],
   "source": []
  },
  {
   "cell_type": "code",
   "execution_count": null,
   "id": "1fd449a2",
   "metadata": {},
   "outputs": [],
   "source": []
  },
  {
   "cell_type": "code",
   "execution_count": null,
   "id": "4d4430ec",
   "metadata": {},
   "outputs": [],
   "source": []
  },
  {
   "cell_type": "code",
   "execution_count": null,
   "id": "8cf624b7",
   "metadata": {},
   "outputs": [],
   "source": []
  },
  {
   "cell_type": "code",
   "execution_count": null,
   "id": "9548e3d0",
   "metadata": {},
   "outputs": [],
   "source": []
  },
  {
   "cell_type": "code",
   "execution_count": null,
   "id": "3cae508e",
   "metadata": {},
   "outputs": [],
   "source": []
  }
 ],
 "metadata": {
  "kernelspec": {
   "display_name": "Python 3 (ipykernel)",
   "language": "python",
   "name": "python3"
  },
  "language_info": {
   "codemirror_mode": {
    "name": "ipython",
    "version": 3
   },
   "file_extension": ".py",
   "mimetype": "text/x-python",
   "name": "python",
   "nbconvert_exporter": "python",
   "pygments_lexer": "ipython3",
   "version": "3.11.5"
  }
 },
 "nbformat": 4,
 "nbformat_minor": 5
}
